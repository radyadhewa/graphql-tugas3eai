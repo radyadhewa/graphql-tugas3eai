{
 "cells": [
  {
   "cell_type": "code",
   "execution_count": 1,
   "metadata": {},
   "outputs": [],
   "source": [
    "import graphene"
   ]
  },
  {
   "cell_type": "code",
   "execution_count": 10,
   "metadata": {},
   "outputs": [],
   "source": [
    "class Book(graphene.ObjectType):\n",
    "  id = graphene.ID()\n",
    "  title = graphene.String()\n",
    "  \n",
    "class Query(graphene.ObjectType):\n",
    "  book = graphene.Field(Book)\n",
    "  books = graphene.List(Book)\n",
    "  \n",
    "  def resolve_book(self, info):\n",
    "    print(info.field_name)\n",
    "    return Book(id=\"1\", title=\"Buku 1\")\n",
    "  \n",
    "  def resolve_books(self, info):\n",
    "    return[\n",
    "      Book(id=\"1\", title=\"Buku 1\"),\n",
    "      Book(id=\"2\", title=\"Buku 2\"),\n",
    "      Book(id=\"3\", title=\"Buku 3\")\n",
    "    ]\n",
    "  \n",
    "schema = graphene.Schema(query=Query)"
   ]
  },
  {
   "cell_type": "code",
   "execution_count": 13,
   "metadata": {},
   "outputs": [
    {
     "name": "stdout",
     "output_type": "stream",
     "text": [
      "book\n",
      "{'book': {'title': 'Buku 1'}}\n"
     ]
    }
   ],
   "source": [
    "q = '''\n",
    "{\n",
    "  book {\n",
    "    title\n",
    "  }\n",
    "}\n",
    "'''\n",
    "\n",
    "result = schema.execute(q)\n",
    "print(result.data)"
   ]
  },
  {
   "cell_type": "code",
   "execution_count": 15,
   "metadata": {},
   "outputs": [
    {
     "name": "stdout",
     "output_type": "stream",
     "text": [
      "{'books': [{'id': '1'}, {'id': '2'}, {'id': '3'}]}\n"
     ]
    }
   ],
   "source": [
    "q = '''\n",
    "{\n",
    "  books {\n",
    "    id\n",
    "    title\n",
    "  }\n",
    "}\n",
    "'''\n",
    "\n",
    "result = schema.execute(q)\n",
    "print(result.data)"
   ]
  }
 ],
 "metadata": {
  "kernelspec": {
   "display_name": "graphql",
   "language": "python",
   "name": "python3"
  },
  "language_info": {
   "codemirror_mode": {
    "name": "ipython",
    "version": 3
   },
   "file_extension": ".py",
   "mimetype": "text/x-python",
   "name": "python",
   "nbconvert_exporter": "python",
   "pygments_lexer": "ipython3",
   "version": "3.10.11"
  }
 },
 "nbformat": 4,
 "nbformat_minor": 2
}
